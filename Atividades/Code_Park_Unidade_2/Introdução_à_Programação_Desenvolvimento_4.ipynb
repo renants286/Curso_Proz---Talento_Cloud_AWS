{
  "nbformat": 4,
  "nbformat_minor": 0,
  "metadata": {
    "colab": {
      "provenance": [],
      "authorship_tag": "ABX9TyPgipm9kTUksOtc9jwo6ieA",
      "include_colab_link": true
    },
    "kernelspec": {
      "name": "python3",
      "display_name": "Python 3"
    },
    "language_info": {
      "name": "python"
    }
  },
  "cells": [
    {
      "cell_type": "markdown",
      "metadata": {
        "id": "view-in-github",
        "colab_type": "text"
      },
      "source": [
        "<a href=\"https://colab.research.google.com/github/renants286/Proz---Talento_Cloud_AWS/blob/main/Introdu%C3%A7%C3%A3o_%C3%A0_Programa%C3%A7%C3%A3o_Desenvolvimento_4.ipynb\" target=\"_parent\"><img src=\"https://colab.research.google.com/assets/colab-badge.svg\" alt=\"Open In Colab\"/></a>"
      ]
    },
    {
      "cell_type": "markdown",
      "source": [
        "# INTRODUÇÃO À PROGRAMAÇÃO - DESENVOLVIMENTO 4\n",
        "\n",
        "*ENUNCIADO:\n",
        "\n",
        "Faça uma função calculadora de dois números com três parâmetros: os dois primeiros serão os números da operação e o terceiro será a entrada que definirá a operação a ser executada. Considera a seguinte definição:\n",
        "1. Soma\n",
        "2. Subtração\n",
        "3. Multiplicação\n",
        "4. Divisão\n",
        "\n",
        "Caso seja inserido um número de operação que não exista, o resultado deverá ser 0.\n",
        "\n",
        "\n",
        "*RESOLUÇÃO:"
      ],
      "metadata": {
        "id": "18hcVcxwizqP"
      }
    },
    {
      "cell_type": "code",
      "execution_count": null,
      "metadata": {
        "colab": {
          "base_uri": "https://localhost:8080/"
        },
        "id": "fxxAsTRNiyvD",
        "outputId": "e15a1e7a-82f8-4f5a-ad6c-c5c53f706ad2"
      },
      "outputs": [
        {
          "output_type": "stream",
          "name": "stdout",
          "text": [
            "Bem-vindo a Calculadora Matemática Python\n",
            "\n",
            "Digite os números que deseja obter o resultado e por último a operação conforme as opções:\n",
            "\n",
            "Primeiro operando 5\n",
            "Segundo operando 5\n",
            "Operação: 1-->SOMA, 2-->SUBTRAÇÃO, 3-->MULTIPLICAÇÃO, 4-->DIVISÃO --> 5\n",
            "Resultado =  0\n"
          ]
        }
      ],
      "source": [
        "print('Bem-vindo a Calculadora Matemática Python')\n",
        "print()\n",
        "print('Digite os números que deseja obter o resultado e por último a operação conforme as opções:')\n",
        "print()\n",
        "\n",
        "def calculadora(n1, n2, op):\n",
        "  if(op==1):\n",
        "    res=n1+n2\n",
        "  elif(op==2):\n",
        "    res=n1-n2\n",
        "  elif(op==3):\n",
        "    res=n1*n2\n",
        "  elif(op==4):\n",
        "    res=n1/n2\n",
        "  else:\n",
        "    return 0\n",
        "  return res\n",
        "\n",
        "numero1=float(input('Primeiro operando '))\n",
        "numero2=float(input('Segundo operando '))\n",
        "operacao=int(input('Operação: 1-->SOMA, 2-->SUBTRAÇÃO, 3-->MULTIPLICAÇÃO, 4-->DIVISÃO --> '))\n",
        "resultado=calculadora(numero1, numero2, operacao)\n",
        "print('Resultado = ', resultado)\n"
      ]
    }
  ]
}