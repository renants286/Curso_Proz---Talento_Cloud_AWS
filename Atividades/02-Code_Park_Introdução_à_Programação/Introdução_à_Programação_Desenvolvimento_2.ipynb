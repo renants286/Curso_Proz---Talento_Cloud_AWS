{
  "nbformat": 4,
  "nbformat_minor": 0,
  "metadata": {
    "colab": {
      "provenance": [],
      "authorship_tag": "ABX9TyMCWGDh5b5WppvihuT+5MjH",
      "include_colab_link": true
    },
    "kernelspec": {
      "name": "python3",
      "display_name": "Python 3"
    },
    "language_info": {
      "name": "python"
    }
  },
  "cells": [
    {
      "cell_type": "markdown",
      "metadata": {
        "id": "view-in-github",
        "colab_type": "text"
      },
      "source": [
        "<a href=\"https://colab.research.google.com/github/renants286/Proz---Talento_Cloud_AWS/blob/main/Introdu%C3%A7%C3%A3o_%C3%A0_Programa%C3%A7%C3%A3o_Desenvolvimento_2.ipynb\" target=\"_parent\"><img src=\"https://colab.research.google.com/assets/colab-badge.svg\" alt=\"Open In Colab\"/></a>"
      ]
    },
    {
      "cell_type": "code",
      "execution_count": null,
      "metadata": {
        "colab": {
          "base_uri": "https://localhost:8080/"
        },
        "id": "wd5RL3ahUq1W",
        "outputId": "58d05ef8-63dc-411e-ba36-a8cd2af54bf0"
      },
      "outputs": [
        {
          "output_type": "stream",
          "name": "stdout",
          "text": [
            "Bem-vindo ao seletor de Categorias de Habilitação\n",
            "#################################################\n",
            "\n",
            "Digite a quantidade de rodas do veículo: 4\n",
            "\n",
            "Digite o peso do veículo em Kilogramas: 3500\n",
            "\n",
            "Digite a quantidade de pessoas que o veículo comporta: 4\n",
            "\n",
            "*** Categoria B ***\n"
          ]
        }
      ],
      "source": [
        "#INTRODUÇÃO À PROGRAMAÇÃO - DESENVOLVIMENTO 2\n",
        "\n",
        "\n",
        "# *ENUNCIADO:\n",
        "'''\n",
        "Desenvolva um código que utilize as seguintes características de um veículo:\n",
        "- Quantidade de rodas;\n",
        "- Peso bruto em quilogramas;\n",
        "- Quantidade de pessoas no veículo.\n",
        "\n",
        "Com essas informações, o programa mostrará qual é a melhor categoria de habilitação para o veículo informado a partir das condições:\n",
        "A: Veículos com duas ou três rodas;\n",
        "B: Veículos com quatro rodas, que acomodam até oito pessoas e seu peso é de até 3500 kg;\n",
        "C: Veículos com quatro rodas ou mais e com peso entre 3500 e 6000 kg;\n",
        "D: Veículos com quatro rodas ou mais e que acomodam mais de oito pessoas; E: Veículos com quatro rodas ou mais e com mais de 6000 kg.\n",
        "'''\n",
        "\n",
        "\n",
        "# *RESOLUÇÃO:\n",
        "\n",
        "# Introdução à Programação - Desenvolvimento 2 - Seleção de habilitação conforme característica do veículo\n",
        "# Renan Tavares\n",
        "\n",
        "print('Bem-vindo ao seletor de Categorias de Habilitação')\n",
        "print('#################################################')\n",
        "print()\n",
        "\n",
        "qtd_rodas=int(input('Digite a quantidade de rodas do veículo: '))\n",
        "print()\n",
        "\n",
        "if qtd_rodas<4:\n",
        "  print('*** Categoria A ***')\n",
        "else:\n",
        "  peso=float(input('Digite o peso do veículo em Kilogramas: '))\n",
        "  print()\n",
        "\n",
        "  if qtd_rodas>=4 and peso>6000:\n",
        "    print('*** Categoria E ***')\n",
        "  else:\n",
        "    pessoas=int(input('Digite a quantidade de pessoas que o veículo comporta: '))\n",
        "    print()\n",
        "\n",
        "if qtd_rodas==4 and pessoas<=8 and peso<=3500:\n",
        "  print(\"*** Categoria B ***\")\n",
        "elif qtd_rodas>=4 and pessoas<=8 and peso>3500 and peso<=6000:\n",
        "  print('*** Categoria C ***')\n",
        "elif qtd_rodas>=4 and pessoas>8 and peso<=6000:\n",
        "  print('*** Categoria D ***')"
      ]
    }
  ]
}