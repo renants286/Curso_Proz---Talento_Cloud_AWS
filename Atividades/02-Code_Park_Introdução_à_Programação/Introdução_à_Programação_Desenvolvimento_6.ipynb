{
  "nbformat": 4,
  "nbformat_minor": 0,
  "metadata": {
    "colab": {
      "provenance": [],
      "authorship_tag": "ABX9TyOLd8ybT5pMCmT8yFRDwNFi",
      "include_colab_link": true
    },
    "kernelspec": {
      "name": "python3",
      "display_name": "Python 3"
    },
    "language_info": {
      "name": "python"
    }
  },
  "cells": [
    {
      "cell_type": "markdown",
      "metadata": {
        "id": "view-in-github",
        "colab_type": "text"
      },
      "source": [
        "<a href=\"https://colab.research.google.com/github/renants286/Proz---Talento_Cloud_AWS/blob/main/introdu%C3%A7%C3%A3o_%C3%A0_Programa%C3%A7%C3%A3o_Desenvolvimento_6.ipynb\" target=\"_parent\"><img src=\"https://colab.research.google.com/assets/colab-badge.svg\" alt=\"Open In Colab\"/></a>"
      ]
    },
    {
      "cell_type": "markdown",
      "source": [
        "# INTRODUÇÃO À PROGRAMAÇÃO - DESENVOLVIMENTO 6\n",
        "\n",
        "*ENUNCIADO:\n",
        "\n",
        "Desenvolva um programa que recebe do usuário nome completo e ano de nascimento que seja entre 1922 e 2021.\n",
        "A partir dessas informações, o sistema mostrará o nome do usuário e a idade que completou, ou completará, no ano atual (2022).\n",
        "\n",
        "Caso o usuário não digite um número ou apareça um inválido no campo do ano, o sistema informará o erro e continuará perguntando até que um valor correto seja preenchido.\n",
        "\n",
        "\n",
        "*RESOLUÇÃO:"
      ],
      "metadata": {
        "id": "XJZ8F_lnA_jH"
      }
    },
    {
      "cell_type": "code",
      "source": [
        "print('CÁLCLO DE IDADE')\n",
        "print()\n",
        "\n",
        "nome=str(input('Digite seu NOME: '))\n",
        "idade=0\n",
        "run=True\n",
        "\n",
        "while (run==True):\n",
        "  try:\n",
        "    ano=int(input('Digite seu ANO de nascimento: '))\n",
        "    if ano>1922 and ano<=2023:\n",
        "      idade=2023-ano\n",
        "      print()\n",
        "      print(nome, 'Sua idade é ', idade, ' anos')\n",
        "      run=False\n",
        "    else:\n",
        "      print('Calculadora aceita apenas anos de 1922 a 2023 como entrada')\n",
        "      run=False\n",
        "  except:\n",
        "    print()\n",
        "    print('*ERRO: DADO INVÁLIDO*')\n",
        "    print()"
      ],
      "metadata": {
        "colab": {
          "base_uri": "https://localhost:8080/"
        },
        "id": "3EkERqByZGPn",
        "outputId": "73a09633-87ad-4ec0-b466-ce01e2a3ea4f"
      },
      "execution_count": null,
      "outputs": [
        {
          "output_type": "stream",
          "name": "stdout",
          "text": [
            "CÁLCLO DE IDADE\n",
            "\n",
            "Digite seu NOME: Renan\n",
            "Digite seu ANO de nascimento: 198o\n",
            "\n",
            "*ERRO: DADO INVÁLIDO*\n",
            "\n",
            "Digite seu ANO de nascimento: 1986\n",
            "\n",
            "Renan Sua idade é  37  anos\n"
          ]
        }
      ]
    }
  ]
}
