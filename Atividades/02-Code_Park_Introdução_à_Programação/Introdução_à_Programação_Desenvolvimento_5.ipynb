{
  "nbformat": 4,
  "nbformat_minor": 0,
  "metadata": {
    "colab": {
      "provenance": [],
      "authorship_tag": "ABX9TyN8jcT8hDaamc0Wgdvo6zhz",
      "include_colab_link": true
    },
    "kernelspec": {
      "name": "python3",
      "display_name": "Python 3"
    },
    "language_info": {
      "name": "python"
    }
  },
  "cells": [
    {
      "cell_type": "markdown",
      "metadata": {
        "id": "view-in-github",
        "colab_type": "text"
      },
      "source": [
        "<a href=\"https://colab.research.google.com/github/renants286/Proz---Talento_Cloud_AWS/blob/main/Introdu%C3%A7%C3%A3o_%C3%A0_Programa%C3%A7%C3%A3o_Desenvolvimento_5.ipynb\" target=\"_parent\"><img src=\"https://colab.research.google.com/assets/colab-badge.svg\" alt=\"Open In Colab\"/></a>"
      ]
    },
    {
      "cell_type": "markdown",
      "source": [
        "# INTRODUÇÃO À PROGRAMAÇÃO - DESENVOLVIMENTO 5\n",
        "\n",
        "*ENUNCIADO:\n",
        "\n",
        "Faça uma função calculadora que os números e as operações serão feitas pelo usuário. O código deve ficar rodando infinitamente até que o usuário escolha a opção de sair. No início, o programa mostrará a seguinte lista de operações:\n",
        "\n",
        "1: Soma\n",
        "2: Subtração\n",
        "3: Multiplicação\n",
        "4: Divisão\n",
        "0: Sair\n",
        "\n",
        "Digite o número para a operação correspondente e caso o usuário introduza qualquer outro, o sistema deve mostrar a mensagem “Essa opção não existe” e voltar ao menu de opções.\n",
        "\n",
        "Após a seleção, o sistema deve pedir para o usuário inserir o primeiro e segundo valor, um de cada. Depois precisa executar a operação e mostrar o resultado na tela. Quando o usuário escolher a opção “Sair”, o sistema irá parar.\n",
        "\n",
        "É necessário que o sistema mostre as opções sempre que finalizar uma operação e mostrar o resultado.\n",
        "\n",
        "\n",
        "*RESOLUÇÃO:"
      ],
      "metadata": {
        "id": "xIfQ0E8fgc2G"
      }
    },
    {
      "cell_type": "code",
      "execution_count": null,
      "metadata": {
        "colab": {
          "base_uri": "https://localhost:8080/"
        },
        "id": "7LOrJGIRgVwM",
        "outputId": "82e35b53-a8f8-436e-eaf9-065a5e252e2c"
      },
      "outputs": [
        {
          "output_type": "stream",
          "name": "stdout",
          "text": [
            "Bem-vindo a Calculadora Matemática Python v2\n",
            "\n",
            "Digite a opção desejada:\n",
            "1-->SOMA, 2-->SUBTRAÇÃO, 3-->MULTIPLICAÇÃO, 4-->DIVISÃO, 0--> SAIR\n",
            "Opção: 1\n",
            "Primeiro operando 2\n",
            "Segundo operando 2\n",
            "Resultado =  4.0\n",
            "Opção: 2\n",
            "Primeiro operando 2\n",
            "Segundo operando 2\n",
            "Resultado =  0.0\n",
            "Opção: 3\n",
            "Primeiro operando 2\n",
            "Segundo operando 2\n",
            "Resultado =  4.0\n",
            "Opção: 4\n",
            "Primeiro operando 2\n",
            "Segundo operando 2\n",
            "Resultado =  1.0\n",
            "Opção: 5\n",
            "Primeiro operando 3\n",
            "Segundo operando 3\n",
            "Esta opção não existe\n",
            "Resultado =  None\n",
            "Opção: 0\n",
            "Sair\n"
          ]
        }
      ],
      "source": [
        "print('Bem-vindo a Calculadora Matemática Python v2')\n",
        "print()\n",
        "print('Digite a opção desejada:')\n",
        "print('1-->SOMA, 2-->SUBTRAÇÃO, 3-->MULTIPLICAÇÃO, 4-->DIVISÃO, 0--> SAIR')\n",
        "\n",
        "def calculadora(n1, n2, op):\n",
        "  if(op==1):\n",
        "    res=n1+n2\n",
        "  elif(op==2):\n",
        "    res=n1-n2\n",
        "  elif(op==3):\n",
        "    res=n1*n2\n",
        "  elif(op==4):\n",
        "    res=n1/n2\n",
        "  else:\n",
        "    return print('Esta opção não existe')\n",
        "  return res\n",
        "\n",
        "i=1\n",
        "while i!=0:\n",
        "  operacao=int(input('Opção: '))\n",
        "  if operacao > 0:\n",
        "    numero1=float(input('Primeiro operando '))\n",
        "    numero2=float(input('Segundo operando '))\n",
        "    resultado=calculadora(numero1, numero2, operacao)\n",
        "    i=operacao\n",
        "    print('Resultado = ', resultado)\n",
        "  else:\n",
        "    print('Sair')\n",
        "    break\n",
        "else:\n",
        "  print('Sair')"
      ]
    }
  ]
}