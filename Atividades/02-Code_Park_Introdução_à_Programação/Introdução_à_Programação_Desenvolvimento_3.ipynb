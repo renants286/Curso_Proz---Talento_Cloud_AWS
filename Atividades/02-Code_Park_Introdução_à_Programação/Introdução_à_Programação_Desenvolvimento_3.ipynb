{
  "nbformat": 4,
  "nbformat_minor": 0,
  "metadata": {
    "colab": {
      "provenance": [],
      "authorship_tag": "ABX9TyMgGzfIajRklIlj5fNt318X",
      "include_colab_link": true
    },
    "kernelspec": {
      "name": "python3",
      "display_name": "Python 3"
    },
    "language_info": {
      "name": "python"
    }
  },
  "cells": [
    {
      "cell_type": "markdown",
      "metadata": {
        "id": "view-in-github",
        "colab_type": "text"
      },
      "source": [
        "<a href=\"https://colab.research.google.com/github/renants286/Proz---Talento_Cloud_AWS/blob/main/Introdu%C3%A7%C3%A3o_%C3%A0_Programa%C3%A7%C3%A3o_Desenvolvimento_3.ipynb\" target=\"_parent\"><img src=\"https://colab.research.google.com/assets/colab-badge.svg\" alt=\"Open In Colab\"/></a>"
      ]
    },
    {
      "cell_type": "markdown",
      "source": [
        "#INTRODUÇÃO À PROGRAMAÇÃO - DESENVOLVIMENTO 3\n",
        "\n",
        "*ENUNCIADO:\n",
        "\n",
        "Precisamos imprimir um número para cada andar de um hotel de 20 andares. Porém, o dono do hotel é supersticioso e optou por não ter um 13ro andar.\n",
        "\n",
        "Escreva um código que imprima todos os números exceto o número 13.\n",
        "Escreva mais dois códigos que resolvam o mesmo problema, mas dessa vez usando os outros dois tipos de laços de repetição aprendidos.\n",
        "\n",
        "Como desafio, imprima eles em ordem decrescente (20, 19, 18...)\n",
        "\n",
        "\n",
        "*RESOLUÇÃO:"
      ],
      "metadata": {
        "id": "IC6_8Lc-MKDn"
      }
    },
    {
      "cell_type": "code",
      "source": [
        "# Utilizando o laço for em ordem crescente\n",
        "print(\"Utilizando o laço 'for' em ordem crescente:\")\n",
        "for numero in range(0, 21):\n",
        "  if numero != 13:\n",
        "    print(numero)\n",
        "  if numero==0:\n",
        "    print('Térreo')"
      ],
      "metadata": {
        "colab": {
          "base_uri": "https://localhost:8080/"
        },
        "id": "kMuIkla9dG6u",
        "outputId": "f2ea7963-677d-458b-8096-4e0444308c88"
      },
      "execution_count": null,
      "outputs": [
        {
          "output_type": "stream",
          "name": "stdout",
          "text": [
            "Utilizando o laço 'for' em ordem crescente:\n",
            "0\n",
            "Térreo\n",
            "1\n",
            "2\n",
            "3\n",
            "4\n",
            "5\n",
            "6\n",
            "7\n",
            "8\n",
            "9\n",
            "10\n",
            "11\n",
            "12\n",
            "14\n",
            "15\n",
            "16\n",
            "17\n",
            "18\n",
            "19\n",
            "20\n"
          ]
        }
      ]
    },
    {
      "cell_type": "code",
      "execution_count": null,
      "metadata": {
        "colab": {
          "base_uri": "https://localhost:8080/"
        },
        "id": "bPRp65XSMCUX",
        "outputId": "eb508c3e-fbcf-46b3-de0c-6a91294fc5c6"
      },
      "outputs": [
        {
          "output_type": "stream",
          "name": "stdout",
          "text": [
            "Térreo\n",
            "1 º Andar\n",
            "2 º Andar\n",
            "3 º Andar\n",
            "4 º Andar\n",
            "5 º Andar\n",
            "6 º Andar\n",
            "7 º Andar\n",
            "8 º Andar\n",
            "9 º Andar\n",
            "10 º Andar\n",
            "11 º Andar\n",
            "12 º Andar\n",
            "14 º Andar\n",
            "15 º Andar\n",
            "16 º Andar\n",
            "17 º Andar\n",
            "18 º Andar\n",
            "19 º Andar\n",
            "20 º Andar\n"
          ]
        }
      ],
      "source": [
        "i=0\n",
        "\n",
        "if i==0:\n",
        "  print('Térreo')\n",
        "for i in range(1, 13):\n",
        "  print(i,'º Andar')\n",
        "for i in range(14, 21):\n",
        "  print(i,'º Andar')"
      ]
    },
    {
      "cell_type": "code",
      "source": [
        "i=0\n",
        "\n",
        "while(i<21):\n",
        "  if(i==0):\n",
        "    print('Térreo')\n",
        "  if(i>=1 and i<13):\n",
        "    print(i,'º Andar')\n",
        "  if(i>=13 and i<21):\n",
        "    print(i,'º Andar')\n",
        "  i=i+1\n"
      ],
      "metadata": {
        "colab": {
          "base_uri": "https://localhost:8080/"
        },
        "id": "72KfWgdHOtuu",
        "outputId": "7807b50c-d897-4913-b28e-292a1344f6c9"
      },
      "execution_count": null,
      "outputs": [
        {
          "output_type": "stream",
          "name": "stdout",
          "text": [
            "Térreo\n",
            "1 º Andar\n",
            "2 º Andar\n",
            "3 º Andar\n",
            "4 º Andar\n",
            "5 º Andar\n",
            "6 º Andar\n",
            "7 º Andar\n",
            "8 º Andar\n",
            "9 º Andar\n",
            "10 º Andar\n",
            "11 º Andar\n",
            "12 º Andar\n",
            "13 º Andar\n",
            "14 º Andar\n",
            "15 º Andar\n",
            "16 º Andar\n",
            "17 º Andar\n",
            "18 º Andar\n",
            "19 º Andar\n",
            "20 º Andar\n"
          ]
        }
      ]
    },
    {
      "cell_type": "code",
      "source": [
        "i=0\n",
        "\n",
        "for i in range(20,13,-1):\n",
        "  print(i,'º Andar')\n",
        "for i in range(12,0,-1):\n",
        "  print(i,'º Andar')\n",
        "print('Térreo')"
      ],
      "metadata": {
        "colab": {
          "base_uri": "https://localhost:8080/"
        },
        "id": "2bb2qKKOVqJ4",
        "outputId": "cb86224d-d44e-4af4-e312-dc9f2e4951f7"
      },
      "execution_count": null,
      "outputs": [
        {
          "output_type": "stream",
          "name": "stdout",
          "text": [
            "20 º Andar\n",
            "19 º Andar\n",
            "18 º Andar\n",
            "17 º Andar\n",
            "16 º Andar\n",
            "15 º Andar\n",
            "14 º Andar\n",
            "12 º Andar\n",
            "11 º Andar\n",
            "10 º Andar\n",
            "9 º Andar\n",
            "8 º Andar\n",
            "7 º Andar\n",
            "6 º Andar\n",
            "5 º Andar\n",
            "4 º Andar\n",
            "3 º Andar\n",
            "2 º Andar\n",
            "1 º Andar\n",
            "Térreo\n"
          ]
        }
      ]
    }
  ]
}