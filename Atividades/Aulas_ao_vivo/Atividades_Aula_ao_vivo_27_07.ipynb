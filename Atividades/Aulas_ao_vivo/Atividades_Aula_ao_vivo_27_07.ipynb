{
  "nbformat": 4,
  "nbformat_minor": 0,
  "metadata": {
    "colab": {
      "provenance": [],
      "authorship_tag": "ABX9TyOcpzD6DWABdp/nYpqO2IEh",
      "include_colab_link": true
    },
    "kernelspec": {
      "name": "python3",
      "display_name": "Python 3"
    },
    "language_info": {
      "name": "python"
    }
  },
  "cells": [
    {
      "cell_type": "markdown",
      "metadata": {
        "id": "view-in-github",
        "colab_type": "text"
      },
      "source": [
        "<a href=\"https://colab.research.google.com/github/renants286/Proz---Talento_Cloud_AWS/blob/main/Atividades_Aula_ao_vivo_27_07.ipynb\" target=\"_parent\"><img src=\"https://colab.research.google.com/assets/colab-badge.svg\" alt=\"Open In Colab\"/></a>"
      ]
    },
    {
      "cell_type": "code",
      "source": [
        "bebida_favorita='Água'\n",
        "alcolica=False\n",
        "preco_bebida=5\n",
        "\n",
        "print(type(bebida_favorita))\n",
        "print(type(alcolica))\n",
        "print(type(preco_bebida))\n"
      ],
      "metadata": {
        "colab": {
          "base_uri": "https://localhost:8080/"
        },
        "id": "BllILQp25Z2D",
        "outputId": "6a539dea-30ed-4a9a-d323-e85efc7dfe4e"
      },
      "execution_count": null,
      "outputs": [
        {
          "output_type": "stream",
          "name": "stdout",
          "text": [
            "<class 'str'>\n",
            "<class 'bool'>\n",
            "<class 'int'>\n"
          ]
        }
      ]
    },
    {
      "cell_type": "code",
      "execution_count": null,
      "metadata": {
        "colab": {
          "base_uri": "https://localhost:8080/"
        },
        "id": "ZccLNR6Pqsox",
        "outputId": "d9a61954-5660-445a-b608-bb97a36abc22"
      },
      "outputs": [
        {
          "output_type": "stream",
          "name": "stdout",
          "text": [
            "Você consumiu: Arroz e feijão , Água , Pudim\n",
            "O valor total de sua refeição é de R$ 40\n",
            "Você pagou com R$ 100 e seu troco é de R$ 60\n"
          ]
        }
      ],
      "source": [
        "almoco_favorito='Arroz e feijão'\n",
        "preco_almoco=25\n",
        "sobremesa_favorita='Pudim'\n",
        "preco_sobremesa=10\n",
        "orcamento=100\n",
        "\n",
        "total=preco_almoco+preco_bebida+preco_sobremesa\n",
        "troco=orcamento-total\n",
        "\n",
        "print('Você consumiu:', almoco_favorito,',', bebida_favorita,',',sobremesa_favorita)\n",
        "print('O valor total de sua refeição é de R$',total)\n",
        "print('Você pagou com R$',orcamento, 'e seu troco é de R$',troco)\n"
      ]
    },
    {
      "cell_type": "code",
      "source": [
        "bom_amigo=True\n",
        "orcamento=50\n",
        "\n",
        "if(orcamento>total):\n",
        "  print('Vamos dividir')\n",
        "elif(bom_amigo==True):\n",
        "  print('Deus te pague')\n",
        "else:\n",
        "  print('Vamos lavar a louça')\n"
      ],
      "metadata": {
        "colab": {
          "base_uri": "https://localhost:8080/"
        },
        "id": "pAMlGgnu23o8",
        "outputId": "78a0c819-7818-4caa-df7f-66be533454a4"
      },
      "execution_count": null,
      "outputs": [
        {
          "output_type": "stream",
          "name": "stdout",
          "text": [
            "Vamos dividir\n"
          ]
        }
      ]
    }
  ]
}