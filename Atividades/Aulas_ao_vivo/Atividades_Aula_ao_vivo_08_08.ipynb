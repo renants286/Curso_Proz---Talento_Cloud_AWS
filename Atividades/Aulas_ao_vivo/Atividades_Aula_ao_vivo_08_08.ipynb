{
  "nbformat": 4,
  "nbformat_minor": 0,
  "metadata": {
    "colab": {
      "provenance": [],
      "authorship_tag": "ABX9TyMlvuvLlUkp44dcZsu23KV2",
      "include_colab_link": true
    },
    "kernelspec": {
      "name": "python3",
      "display_name": "Python 3"
    },
    "language_info": {
      "name": "python"
    }
  },
  "cells": [
    {
      "cell_type": "markdown",
      "metadata": {
        "id": "view-in-github",
        "colab_type": "text"
      },
      "source": [
        "<a href=\"https://colab.research.google.com/github/renants286/Proz---Talento_Cloud_AWS/blob/main/Atividades_Aula_ao_vivo_08_08.ipynb\" target=\"_parent\"><img src=\"https://colab.research.google.com/assets/colab-badge.svg\" alt=\"Open In Colab\"/></a>"
      ]
    },
    {
      "cell_type": "code",
      "execution_count": null,
      "metadata": {
        "id": "nvyHMXURX2n2"
      },
      "outputs": [],
      "source": [
        "def achar_elemento(elem,arr):\n",
        "  achou=False\n",
        "\n",
        "  for i in range(len(arr)):\n",
        "    if arr[i]==elem:\n",
        "      achou=True\n",
        "\n",
        "  if(achou==False):\n",
        "    print('Não achamos o nome: ' + elem)\n",
        "  else:\n",
        "    print('Achamos o nome: ' + elem)"
      ]
    },
    {
      "cell_type": "code",
      "source": [
        "nomes=['Jeff', 'Mariana', 'Ricardo', 'Tiago', 'Adriano']"
      ],
      "metadata": {
        "id": "yKQNKN7ea_6q"
      },
      "execution_count": null,
      "outputs": []
    },
    {
      "cell_type": "code",
      "source": [
        "achar_elemento('Ricardo',nomes)"
      ],
      "metadata": {
        "colab": {
          "base_uri": "https://localhost:8080/"
        },
        "id": "WpSqPG7VdgjS",
        "outputId": "0181d829-3f70-49e4-8a6a-603293ae883f"
      },
      "execution_count": null,
      "outputs": [
        {
          "output_type": "stream",
          "name": "stdout",
          "text": [
            "Achamos o nome: Ricardo\n"
          ]
        }
      ]
    },
    {
      "cell_type": "code",
      "source": [
        "achar_elemento(input(str('Digite o nome que deseja encontrar: ')),nomes)"
      ],
      "metadata": {
        "colab": {
          "base_uri": "https://localhost:8080/"
        },
        "id": "Dfblp-sbcC0U",
        "outputId": "d2ee5e91-a086-4903-8a75-2a141121fd15"
      },
      "execution_count": null,
      "outputs": [
        {
          "output_type": "stream",
          "name": "stdout",
          "text": [
            "Digite o nome que deseja encontrar: Tiago\n",
            "Achamos o nome: Tiago\n"
          ]
        }
      ]
    }
  ]
}