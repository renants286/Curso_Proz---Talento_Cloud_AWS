{
  "nbformat": 4,
  "nbformat_minor": 0,
  "metadata": {
    "colab": {
      "provenance": [],
      "authorship_tag": "ABX9TyMUMpNDmwj1OnRe8sV7Iw17",
      "include_colab_link": true
    },
    "kernelspec": {
      "name": "python3",
      "display_name": "Python 3"
    },
    "language_info": {
      "name": "python"
    }
  },
  "cells": [
    {
      "cell_type": "markdown",
      "metadata": {
        "id": "view-in-github",
        "colab_type": "text"
      },
      "source": [
        "<a href=\"https://colab.research.google.com/github/renants286/Proz---Talento_Cloud_AWS/blob/main/Atividades_Aula_ao_vivo_01_08.ipynb\" target=\"_parent\"><img src=\"https://colab.research.google.com/assets/colab-badge.svg\" alt=\"Open In Colab\"/></a>"
      ]
    },
    {
      "cell_type": "code",
      "execution_count": null,
      "metadata": {
        "colab": {
          "base_uri": "https://localhost:8080/"
        },
        "id": "A3XkmP6KTKBr",
        "outputId": "fe99aa6f-9785-4bb4-b06b-c50947bfb1a8"
      },
      "outputs": [
        {
          "output_type": "stream",
          "name": "stdout",
          "text": [
            "Reguei a planta 0\n",
            "Reguei a planta 1\n",
            "Reguei a planta 2\n",
            "Reguei a planta 3\n",
            "Reguei a planta 4\n",
            "Reguei a planta 5\n"
          ]
        }
      ],
      "source": [
        "for i in range(6):\n",
        "  planta=str(i)\n",
        "  print('Reguei a planta ' + planta)"
      ]
    },
    {
      "cell_type": "code",
      "source": [
        "i=0\n",
        "while i<6:\n",
        "  planta=str(i)\n",
        "  print('Reguei a planta ' + planta)\n",
        "  i+=1"
      ],
      "metadata": {
        "colab": {
          "base_uri": "https://localhost:8080/"
        },
        "id": "Obi0dA-7VHi_",
        "outputId": "f3aae434-abe6-419f-c04c-dacd5403202d"
      },
      "execution_count": null,
      "outputs": [
        {
          "output_type": "stream",
          "name": "stdout",
          "text": [
            "Reguei a planta 0\n",
            "Reguei a planta 1\n",
            "Reguei a planta 2\n",
            "Reguei a planta 3\n",
            "Reguei a planta 4\n",
            "Reguei a planta 5\n"
          ]
        }
      ]
    },
    {
      "cell_type": "code",
      "source": [
        "for planta in range(0,5,2):\n",
        "  print('Reguei o tomate ', planta)"
      ],
      "metadata": {
        "colab": {
          "base_uri": "https://localhost:8080/"
        },
        "id": "QntixLmgcH9-",
        "outputId": "3b0a7d3d-ca9d-4361-fc40-aabb4e64bf39"
      },
      "execution_count": null,
      "outputs": [
        {
          "output_type": "stream",
          "name": "stdout",
          "text": [
            "Reguei o tomate  0\n",
            "Reguei o tomate  2\n",
            "Reguei o tomate  4\n"
          ]
        }
      ]
    },
    {
      "cell_type": "code",
      "source": [
        "planta=0\n",
        "while planta<5:\n",
        "  print('Reguei o tomate ', planta)\n",
        "  planta+=2"
      ],
      "metadata": {
        "colab": {
          "base_uri": "https://localhost:8080/"
        },
        "id": "kq8gHMt2jJJ5",
        "outputId": "fd9eb648-23bf-447f-886d-9e2a1a501f25"
      },
      "execution_count": null,
      "outputs": [
        {
          "output_type": "stream",
          "name": "stdout",
          "text": [
            "Reguei o tomate  0\n",
            "Reguei o tomate  2\n",
            "Reguei o tomate  4\n"
          ]
        }
      ]
    }
  ]
}