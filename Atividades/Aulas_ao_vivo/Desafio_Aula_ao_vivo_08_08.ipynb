{
  "nbformat": 4,
  "nbformat_minor": 0,
  "metadata": {
    "colab": {
      "provenance": [],
      "authorship_tag": "ABX9TyPmQmeE/+64bjtvfrR1SPyB",
      "include_colab_link": true
    },
    "kernelspec": {
      "name": "python3",
      "display_name": "Python 3"
    },
    "language_info": {
      "name": "python"
    }
  },
  "cells": [
    {
      "cell_type": "markdown",
      "metadata": {
        "id": "view-in-github",
        "colab_type": "text"
      },
      "source": [
        "<a href=\"https://colab.research.google.com/github/renants286/Proz---Talento_Cloud_AWS/blob/main/Desafio_Aula_ao_vivo_08_08.ipynb\" target=\"_parent\"><img src=\"https://colab.research.google.com/assets/colab-badge.svg\" alt=\"Open In Colab\"/></a>"
      ]
    },
    {
      "cell_type": "markdown",
      "source": [
        "“Boa tarde,\n",
        "\n",
        "Estamos modernizando nossa loja e precisamos de um novo sistema de controle de estoque. Geralmente anotamos todos os produtos que temos disponíveis, e quando um dos produtos acaba, substituímos ele por algum outro produto.\n",
        "\n",
        "Ouvi dizer que vocês podem fazer um sistema para a gente que mostra a lista com todos nossos produtos, e nos deixa alterar um produto por outro.\n",
        "\n",
        "Além disso, estamos pensando em ampliar nosso armazém, para ter mais espaço para mais produtos. Então, se puderem fazer com que o sistema nos permita adicionar mais produtos à lista, e qualquer outra coisa que acharem necessário, seria muito bom.\n",
        "\n",
        "Desde já agradeço!”\n",
        "\n",
        "\n",
        "Menu: 1 - Cadastrar Produto 2 - Visualizar Lista de Produtos 3 - Alterar Produto"
      ],
      "metadata": {
        "id": "26QHgExZPnUd"
      }
    },
    {
      "cell_type": "code",
      "execution_count": null,
      "metadata": {
        "colab": {
          "base_uri": "https://localhost:8080/"
        },
        "id": "pEBgk22XPcey",
        "outputId": "b6c12099-42f4-454e-a01d-2495b3bd839c"
      },
      "outputs": [
        {
          "output_type": "stream",
          "name": "stdout",
          "text": [
            "\n",
            "*** BEM VINDO AO SOFTWARE DE CADASTRO DE PRODUTOS ***\n",
            "\n",
            "1 - Cadastrar Produto\n",
            "2 - Visualizar Lista\n",
            "3 - Alterar Produto\n",
            "4 - SAIR\n",
            "\n",
            "DIGITE SUA OPÇÃO: 1\n",
            "\n",
            "  Digite a QUANTIDADE de produtos a cadastrar: 3\n",
            "   Digite o NOME do produto: uva\n",
            "   Digite o NOME do produto: banana\n",
            "   Digite o NOME do produto: pera\n",
            "\n",
            "*** BEM VINDO AO SOFTWARE DE CADASTRO DE PRODUTOS ***\n",
            "\n",
            "1 - Cadastrar Produto\n",
            "2 - Visualizar Lista\n",
            "3 - Alterar Produto\n",
            "4 - SAIR\n",
            "\n",
            "DIGITE SUA OPÇÃO: 2\n",
            "\n",
            "Os produtos cadastrados são: \n",
            "['uva', 'banana', 'pera']\n",
            "A quantidade de produtos na lista é de:  3  produtos\n",
            "\n",
            "*** BEM VINDO AO SOFTWARE DE CADASTRO DE PRODUTOS ***\n",
            "\n",
            "1 - Cadastrar Produto\n",
            "2 - Visualizar Lista\n",
            "3 - Alterar Produto\n",
            "4 - SAIR\n",
            "\n",
            "DIGITE SUA OPÇÃO: 3\n",
            "\n",
            "Digite o número do índice do produto que deseja substituir: \n",
            "1\n",
            "Digite o nome do novo produto a cadastrar: \n",
            "laranja\n",
            "['uva', 'laranja', 'pera']\n",
            "\n",
            "*** BEM VINDO AO SOFTWARE DE CADASTRO DE PRODUTOS ***\n",
            "\n",
            "1 - Cadastrar Produto\n",
            "2 - Visualizar Lista\n",
            "3 - Alterar Produto\n",
            "4 - SAIR\n",
            "\n",
            "DIGITE SUA OPÇÃO: 2\n",
            "\n",
            "Os produtos cadastrados são: \n",
            "['uva', 'laranja', 'pera']\n",
            "A quantidade de produtos na lista é de:  3  produtos\n",
            "\n",
            "*** BEM VINDO AO SOFTWARE DE CADASTRO DE PRODUTOS ***\n",
            "\n",
            "1 - Cadastrar Produto\n",
            "2 - Visualizar Lista\n",
            "3 - Alterar Produto\n",
            "4 - SAIR\n",
            "\n",
            "DIGITE SUA OPÇÃO: 4\n",
            "\n",
            "Obrigado por utilizar nosso software\n"
          ]
        }
      ],
      "source": [
        "lista_produtos=[]\n",
        "exec=True\n",
        "\n",
        "while (exec==True):\n",
        "  print()\n",
        "  print('*** BEM VINDO AO SOFTWARE DE CADASTRO DE PRODUTOS ***')\n",
        "  print()\n",
        "  print('1 - Cadastrar Produto\\n2 - Visualizar Lista\\n3 - Alterar Produto\\n4 - SAIR')\n",
        "  menu=int(input('\\nDIGITE SUA OPÇÃO: '))\n",
        "  print()\n",
        "\n",
        "  if menu==1:\n",
        "    qtd_prod=int(input('  Digite a QUANTIDADE de produtos a cadastrar: '))\n",
        "    for i in range(qtd_prod):\n",
        "      lista_produtos.append(input(str('   Digite o NOME do produto: ')))\n",
        "\n",
        "  elif menu==2:\n",
        "    print('Os produtos cadastrados são: ')\n",
        "    print(lista_produtos)\n",
        "    print('A quantidade de produtos na lista é de: ', len(lista_produtos), ' produtos')\n",
        "\n",
        "  elif menu==3:\n",
        "    print('Digite o número do índice do produto que deseja substituir: ')\n",
        "    apagar=int(input())\n",
        "    lista_produtos.pop(apagar)\n",
        "    print('Digite o nome do novo produto a cadastrar: ')\n",
        "    cadastrar=str(input())\n",
        "    lista_produtos.insert(apagar,cadastrar)\n",
        "    print(lista_produtos)\n",
        "\n",
        "  elif menu==4:\n",
        "    print('Obrigado por utilizar nosso software')\n",
        "    exec=False\n",
        "\n",
        "  else:\n",
        "    print('Opção inválida')"
      ]
    }
  ]
}